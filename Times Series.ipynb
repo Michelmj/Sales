{
 "cells": [
  {
   "cell_type": "code",
   "execution_count": 1,
   "metadata": {},
   "outputs": [],
   "source": [
    "import numpy as np\n",
    "import pandas as pd\n",
    "import os\n",
    "import random as rd\n",
    "import datetime as dt\n",
    "import seaborn as sns\n",
    "from statsmodels.tsa.statespace.sarimax import SARIMAX\n",
    "from statsmodels.graphics.tsaplots import plot_acf, plot_pacf\n",
    "from statsmodels.tsa.seasonal import seasonal_decompose\n",
    "from statsmodels.tsa.arima_model import ARIMA\n",
    "from statsmodels.tsa.stattools import adfuller, acf, pacf, arma_order_select_ic\n",
    "import statsmodels.formula.api as smf\n",
    "import statsmodels.tsa.api as smt\n",
    "import statsmodels.api as sm\n",
    "import scipy.stats as scs\n",
    "\n",
    "from pandas.plotting import autocorrelation_plot\n",
    "\n",
    "\n",
    "import sklearn\n",
    "from sklearn.metrics import mean_squared_error\n",
    "from statsmodels.tools.eval_measures import rmse\n",
    "import warnings\n",
    "warnings.filterwarnings(\"ignore\")\n",
    "import matplotlib.pyplot as plt\n",
    "%matplotlib inline"
   ]
  },
  {
   "cell_type": "markdown",
   "metadata": {},
   "source": [
    "We are going to be looking at a Time Series Datasets. I have done a lot of time series problem while being an MBA candidate and Data Analyst at Tarleton. While taking Econometrics, I had a lot of Time Series Analysis to do as class projects. One difficulty I had, was to know when to use the ARIMA model (Auto-Regression Integrated Moving-Average). After a while doing it, I started to get the hang of it. Now I am going to work more of these types of projects"
   ]
  },
  {
   "cell_type": "markdown",
   "metadata": {},
   "source": [
    "What is ARIMA?\n",
    "\n",
    "ARIMA is a model which is used for predicting future trends on a time series data. It is model that form of regression analysis.\n",
    "\n",
    "AR (Autoregression) : Model that shows a changing variable that regresses on its own lagged/prior values.\n",
    "\n",
    "I (Integrated) : Differencing of raw observations to allow for the time series to become stationary.\n",
    "\n",
    "MA (Moving average) : Dependency between an observation and a residual error from a moving average model\n",
    "\n",
    "For ARIMA models, a standard notation would be ARIMA with p, d, and q, where integer values substitute for the parameters to indicate the type of ARIMA model used.\n",
    "\n",
    "p: the number of lag observations in the model; also known as the lag order.\n",
    "\n",
    "d: the number of times that the raw observations are differenced; also known as the degree of differencing.\n",
    "\n",
    "q: the size of the moving average window; also known as the order of the moving average."
   ]
  },
  {
   "cell_type": "code",
   "execution_count": 2,
   "metadata": {},
   "outputs": [],
   "source": [
    "itemcateg = pd.read_csv(\"C:/Users/Delmafia91/Downloads/item_categories.csv\")\n",
    "shop = pd.read_csv(\"C:/Users/Delmafia91/Downloads/shops.csv\")\n",
    "test = pd.read_csv(\"C:/Users/Delmafia91/Downloads/test.csv\")\n",
    "sales = pd.read_csv(\"C:/Users/Delmafia91/Downloads/sales_train.csv\")\n",
    "items = pd.read_csv(\"C:/Users/Delmafia91/Downloads/items.csv\")\n",
    "sub = pd.read_csv(\"C:/Users/Delmafia91/Downloads/sample_submission.csv\")"
   ]
  },
  {
   "cell_type": "code",
   "execution_count": 3,
   "metadata": {},
   "outputs": [
    {
     "name": "stdout",
     "output_type": "stream",
     "text": [
      "<class 'pandas.core.frame.DataFrame'>\n",
      "RangeIndex: 1048575 entries, 0 to 1048574\n",
      "Data columns (total 6 columns):\n",
      "date              1048575 non-null object\n",
      "date_block_num    1048575 non-null int64\n",
      "shop_id           1048575 non-null int64\n",
      "item_id           1048575 non-null int64\n",
      "item_price        1048575 non-null float64\n",
      "item_cnt_day      1048575 non-null int64\n",
      "dtypes: float64(1), int64(4), object(1)\n",
      "memory usage: 48.0+ MB\n",
      "None\n"
     ]
    }
   ],
   "source": [
    "sada = sales.date.apply(lambda x:dt.datetime.strptime(x, '%d.%m.%Y'))\n",
    "print(sales.info())"
   ]
  },
  {
   "cell_type": "code",
   "execution_count": 4,
   "metadata": {},
   "outputs": [],
   "source": [
    "# Calculated to monthly level by the required metrics\n",
    "\n",
    "salemonth = sales.groupby([\"date_block_num\", \"shop_id\",\n",
    "            \"item_id\"])[\"date\",\"item_price\", \n",
    "            \"item_cnt_day\"].agg({\"date\": ['min',\n",
    "            \"max\"], \"item_price\":\"mean\", \"item_cnt_day\":\n",
    "                                \"sum\"})\n",
    "\n",
    "#aggregate by date block(month), shop_id, item_id \n",
    "#(This is a SQL command) \n",
    "#select the column date, item price, and item cnt(sales)\n",
    "#min and max on the date\n",
    "#average item price\n",
    "#sum the sales"
   ]
  },
  {
   "cell_type": "code",
   "execution_count": 5,
   "metadata": {},
   "outputs": [
    {
     "data": {
      "text/html": [
       "<div>\n",
       "<style scoped>\n",
       "    .dataframe tbody tr th:only-of-type {\n",
       "        vertical-align: middle;\n",
       "    }\n",
       "\n",
       "    .dataframe tbody tr th {\n",
       "        vertical-align: top;\n",
       "    }\n",
       "\n",
       "    .dataframe thead tr th {\n",
       "        text-align: left;\n",
       "    }\n",
       "\n",
       "    .dataframe thead tr:last-of-type th {\n",
       "        text-align: right;\n",
       "    }\n",
       "</style>\n",
       "<table border=\"1\" class=\"dataframe\">\n",
       "  <thead>\n",
       "    <tr>\n",
       "      <th></th>\n",
       "      <th></th>\n",
       "      <th></th>\n",
       "      <th colspan=\"2\" halign=\"left\">date</th>\n",
       "      <th>item_price</th>\n",
       "      <th>item_cnt_day</th>\n",
       "    </tr>\n",
       "    <tr>\n",
       "      <th></th>\n",
       "      <th></th>\n",
       "      <th></th>\n",
       "      <th>min</th>\n",
       "      <th>max</th>\n",
       "      <th>mean</th>\n",
       "      <th>sum</th>\n",
       "    </tr>\n",
       "    <tr>\n",
       "      <th>date_block_num</th>\n",
       "      <th>shop_id</th>\n",
       "      <th>item_id</th>\n",
       "      <th></th>\n",
       "      <th></th>\n",
       "      <th></th>\n",
       "      <th></th>\n",
       "    </tr>\n",
       "  </thead>\n",
       "  <tbody>\n",
       "    <tr>\n",
       "      <td rowspan=\"5\" valign=\"top\">0</td>\n",
       "      <td rowspan=\"5\" valign=\"top\">0</td>\n",
       "      <td>32</td>\n",
       "      <td>03.01.2013</td>\n",
       "      <td>31.01.2013</td>\n",
       "      <td>221.0</td>\n",
       "      <td>6</td>\n",
       "    </tr>\n",
       "    <tr>\n",
       "      <td>33</td>\n",
       "      <td>03.01.2013</td>\n",
       "      <td>28.01.2013</td>\n",
       "      <td>347.0</td>\n",
       "      <td>3</td>\n",
       "    </tr>\n",
       "    <tr>\n",
       "      <td>35</td>\n",
       "      <td>31.01.2013</td>\n",
       "      <td>31.01.2013</td>\n",
       "      <td>247.0</td>\n",
       "      <td>1</td>\n",
       "    </tr>\n",
       "    <tr>\n",
       "      <td>43</td>\n",
       "      <td>31.01.2013</td>\n",
       "      <td>31.01.2013</td>\n",
       "      <td>221.0</td>\n",
       "      <td>1</td>\n",
       "    </tr>\n",
       "    <tr>\n",
       "      <td>51</td>\n",
       "      <td>13.01.2013</td>\n",
       "      <td>31.01.2013</td>\n",
       "      <td>128.5</td>\n",
       "      <td>2</td>\n",
       "    </tr>\n",
       "  </tbody>\n",
       "</table>\n",
       "</div>"
      ],
      "text/plain": [
       "                                      date             item_price item_cnt_day\n",
       "                                       min         max       mean          sum\n",
       "date_block_num shop_id item_id                                                \n",
       "0              0       32       03.01.2013  31.01.2013      221.0            6\n",
       "                       33       03.01.2013  28.01.2013      347.0            3\n",
       "                       35       31.01.2013  31.01.2013      247.0            1\n",
       "                       43       31.01.2013  31.01.2013      221.0            1\n",
       "                       51       13.01.2013  31.01.2013      128.5            2"
      ]
     },
     "execution_count": 5,
     "metadata": {},
     "output_type": "execute_result"
    }
   ],
   "source": [
    "salemonth.head()"
   ]
  },
  {
   "cell_type": "code",
   "execution_count": 6,
   "metadata": {},
   "outputs": [
    {
     "data": {
      "image/png": "[encoded data removed]",
      "text/plain": [
       "<Figure size 576x288 with 1 Axes>"
      ]
     },
     "metadata": {
      "needs_background": "light"
     },
     "output_type": "display_data"
    }
   ],
   "source": [
    "# Number of items per category\n",
    "i = items.groupby(['item_category_id']).count()\n",
    "i = i.sort_values(by='item_id', ascending = False)\n",
    "i = i.iloc[0:10].reset_index()\n",
    "i\n",
    "\n",
    "# plot\n",
    "plt.figure(figsize=(8,4))\n",
    "ax = sns.barplot(i.item_category_id, i.item_id, alpha = 0.8)\n",
    "plt.title(\"Items per Category\")\n",
    "plt.ylabel('# of items', fontsize = 12)\n",
    "plt.xlabel('Category', fontsize = 12)\n",
    "plt.show()"
   ]
  },
  {
   "cell_type": "markdown",
   "metadata": {},
   "source": [
    "# Univeriate series\n",
    "\n",
    "The objective is to predict sales for the next month. Sales over time of each store-item is a time-series in itself. How do we forecast a univeriate series?\n",
    "\n",
    "We are going to compute the total sales per month and that result."
   ]
  },
  {
   "cell_type": "code",
   "execution_count": 7,
   "metadata": {},
   "outputs": [
    {
     "data": {
      "text/plain": [
       "[<matplotlib.lines.Line2D at 0x22180a5c648>]"
      ]
     },
     "execution_count": 7,
     "metadata": {},
     "output_type": "execute_result"
    },
    {
     "data": {
      "image/png": "[encoded data removed]",
      "text/plain": [
       "<Figure size 1152x576 with 1 Axes>"
      ]
     },
     "metadata": {
      "needs_background": "light"
     },
     "output_type": "display_data"
    }
   ],
   "source": [
    "ts = sales.groupby([\"date_block_num\"])[\"item_cnt_day\"].sum()\n",
    "ts.astype('float')\n",
    "plt.figure(figsize =(16, 8))\n",
    "plt.title('Total Sales of company')\n",
    "plt.xlabel('Time')\n",
    "plt.ylabel('Sales')\n",
    "plt.plot(ts)"
   ]
  },
  {
   "cell_type": "code",
   "execution_count": 26,
   "metadata": {},
   "outputs": [
    {
     "data": {
      "text/plain": [
       "[<matplotlib.lines.Line2D at 0x221832b4148>]"
      ]
     },
     "execution_count": 26,
     "metadata": {},
     "output_type": "execute_result"
    },
    {
     "data": {
      "image/png": "[encoded data removed]",
      "text/plain": [
       "<Figure size 1152x432 with 1 Axes>"
      ]
     },
     "metadata": {
      "needs_background": "light"
     },
     "output_type": "display_data"
    }
   ],
   "source": [
    "plt.figure(figsize = (16, 6))\n",
    "ax1 = plt.subplot2grid((2,1), (0,0))\n",
    "#ax2 = plt.subplot2grid((2,1), (1,0), sharex = ax1)\n",
    "plt.plot(ts.rolling(1).mean())"
   ]
  },
  {
   "cell_type": "code",
   "execution_count": 29,
   "metadata": {},
   "outputs": [
    {
     "data": {
      "text/plain": [
       "[<matplotlib.lines.Line2D at 0x22185524b88>]"
      ]
     },
     "execution_count": 29,
     "metadata": {},
     "output_type": "execute_result"
    },
    {
     "data": {
      "image/png": "[encoded data removed]",
      "text/plain": [
       "<Figure size 432x288 with 1 Axes>"
      ]
     },
     "metadata": {
      "needs_background": "light"
     },
     "output_type": "display_data"
    }
   ],
   "source": [
    "plt.figure()\n",
    "plt.plot(ts.rolling(2).std())"
   ]
  },
  {
   "cell_type": "code",
   "execution_count": null,
   "metadata": {},
   "outputs": [],
   "source": []
  },
  {
   "cell_type": "code",
   "execution_count": null,
   "metadata": {},
   "outputs": [],
   "source": []
  },
  {
   "cell_type": "code",
   "execution_count": null,
   "metadata": {},
   "outputs": [],
   "source": []
  },
  {
   "cell_type": "code",
   "execution_count": null,
   "metadata": {},
   "outputs": [],
   "source": []
  },
  {
   "cell_type": "code",
   "execution_count": null,
   "metadata": {},
   "outputs": [],
   "source": []
  },
  {
   "cell_type": "code",
   "execution_count": null,
   "metadata": {},
   "outputs": [],
   "source": []
  },
  {
   "cell_type": "code",
   "execution_count": null,
   "metadata": {},
   "outputs": [],
   "source": []
  },
  {
   "cell_type": "code",
   "execution_count": null,
   "metadata": {},
   "outputs": [],
   "source": []
  },
  {
   "cell_type": "code",
   "execution_count": null,
   "metadata": {},
   "outputs": [],
   "source": []
  },
  {
   "cell_type": "code",
   "execution_count": null,
   "metadata": {},
   "outputs": [],
   "source": []
  },
  {
   "cell_type": "code",
   "execution_count": null,
   "metadata": {},
   "outputs": [],
   "source": []
  },
  {
   "cell_type": "code",
   "execution_count": null,
   "metadata": {},
   "outputs": [],
   "source": []
  },
  {
   "cell_type": "code",
   "execution_count": null,
   "metadata": {},
   "outputs": [],
   "source": []
  },
  {
   "cell_type": "code",
   "execution_count": null,
   "metadata": {},
   "outputs": [],
   "source": []
  },
  {
   "cell_type": "code",
   "execution_count": null,
   "metadata": {},
   "outputs": [],
   "source": []
  },
  {
   "cell_type": "code",
   "execution_count": null,
   "metadata": {},
   "outputs": [],
   "source": []
  }
 ],
 "metadata": {
  "kernelspec": {
   "display_name": "Python 3",
   "language": "python",
   "name": "python3"
  },
  "language_info": {
   "codemirror_mode": {
    "name": "ipython",
    "version": 3
   },
   "file_extension": ".py",
   "mimetype": "text/x-python",
   "name": "python",
   "nbconvert_exporter": "python",
   "pygments_lexer": "ipython3",
   "version": "3.7.4"
  }
 },
 "nbformat": 4,
 "nbformat_minor": 4
}
